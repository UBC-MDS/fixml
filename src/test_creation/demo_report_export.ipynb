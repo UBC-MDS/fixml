{
 "cells": [
  {
   "cell_type": "markdown",
   "id": "46fc374f-211c-4ad4-995f-8986339f124c",
   "metadata": {},
   "source": [
    "## Evaluation Report Export Function Demo"
   ]
  },
  {
   "cell_type": "code",
   "execution_count": 2,
   "id": "d2c1ead7-9d5b-4414-80e2-07092ba180ca",
   "metadata": {},
   "outputs": [],
   "source": [
    "from analyze import *"
   ]
  },
  {
   "cell_type": "code",
   "execution_count": 7,
   "id": "be47fcc4-7a1f-439e-8ad1-42766fc9de75",
   "metadata": {},
   "outputs": [],
   "source": [
    "repo_test_functions_directory = '../../../lightfm/tests'\n",
    "checklist_directory = '../../checklist/checklist_demo.csv'\n",
    "report_output_path_html = '../../report/evaluation_report.html'\n",
    "report_output_path_pdf = '../../report/evaluation_report.pdf'"
   ]
  },
  {
   "cell_type": "code",
   "execution_count": 4,
   "id": "ad0a59a9-185c-4f17-a0dd-fa2534958ecb",
   "metadata": {},
   "outputs": [
    {
     "name": "stderr",
     "output_type": "stream",
     "text": [
      "100%|██████████████████████████████████████████████████████████████████████████████████████| 2/2 [00:17<00:00,  8.70s/it]\n"
     ]
    }
   ],
   "source": [
    "evaluator = TestEvaluator(repo_test_functions_directory)\n",
    "evaluator.load_checklist(checklist_directory)\n",
    "evaluator.evaluate()"
   ]
  },
  {
   "cell_type": "code",
   "execution_count": 5,
   "id": "d717ba5d-dc9d-477d-a9db-ccb993f48f09",
   "metadata": {},
   "outputs": [],
   "source": [
    "score = evaluator.get_completeness_score()"
   ]
  },
  {
   "cell_type": "code",
   "execution_count": 8,
   "id": "273db18c-13c4-4c86-a4c8-f42e0b0e37c5",
   "metadata": {},
   "outputs": [],
   "source": [
    "evaluator.export_evaluation_report(report_output_path_html, 'html', exist_ok=True)"
   ]
  },
  {
   "cell_type": "code",
   "execution_count": 9,
   "id": "55165f36-b0ad-414d-9cfd-395abaad82b5",
   "metadata": {},
   "outputs": [],
   "source": [
    "evaluator.export_evaluation_report(report_output_path_pdf, 'pdf', exist_ok=True)"
   ]
  },
  {
   "cell_type": "code",
   "execution_count": null,
   "id": "07875448-9c58-4ec0-94b8-de9be8870011",
   "metadata": {},
   "outputs": [],
   "source": []
  }
 ],
 "metadata": {
  "kernelspec": {
   "display_name": "Python [conda env:test-creation]",
   "language": "python",
   "name": "conda-env-test-creation-py"
  },
  "language_info": {
   "codemirror_mode": {
    "name": "ipython",
    "version": 3
   },
   "file_extension": ".py",
   "mimetype": "text/x-python",
   "name": "python",
   "nbconvert_exporter": "python",
   "pygments_lexer": "ipython3",
   "version": "3.12.3"
  }
 },
 "nbformat": 4,
 "nbformat_minor": 5
}
