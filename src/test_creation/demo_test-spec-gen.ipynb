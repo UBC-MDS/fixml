{
 "cells": [
  {
   "cell_type": "code",
   "execution_count": 1,
   "id": "4933df8d-6a7e-45c8-8b05-d33811ee09be",
   "metadata": {},
   "outputs": [],
   "source": [
    "from generate import *"
   ]
  },
  {
   "cell_type": "code",
   "execution_count": 2,
   "id": "0eb2cc86-28c7-4080-a288-4bbdbb675bfe",
   "metadata": {},
   "outputs": [],
   "source": [
    "llm = ChatOpenAI(model=\"gpt-3.5-turbo\", temperature=0)\n",
    "checklist = Checklist('../../checklist/checklist.csv', checklist_format=ChecklistFormat.CSV)"
   ]
  },
  {
   "cell_type": "code",
   "execution_count": 3,
   "id": "98ec0b9e-e7f9-4aa7-b28f-49054c6da0db",
   "metadata": {},
   "outputs": [],
   "source": [
    "generator = TestGenerator(llm, extractor=None, checklist=checklist)\n",
    "result = generator.generate()"
   ]
  },
  {
   "cell_type": "code",
   "execution_count": 4,
   "id": "9571619f-ffe2-45a4-a3fb-fc2d85e254f0",
   "metadata": {},
   "outputs": [
    {
     "name": "stdout",
     "output_type": "stream",
     "text": [
      "def test_data_in_expected_format():\n",
      "    \"\"\"Verify that the data to be ingested matches the format expected by processing algorithms (like pd.DataFrame for CSVs or np.array for images) and adheres to the expected schema.\"\"\"\n",
      "    pass\n"
     ]
    }
   ],
   "source": [
    "print(generator.result[1]['Function'])"
   ]
  },
  {
   "cell_type": "code",
   "execution_count": null,
   "id": "7f0f42aa-3877-426c-a4b8-d47bef272eae",
   "metadata": {},
   "outputs": [],
   "source": []
  }
 ],
 "metadata": {
  "kernelspec": {
   "display_name": "Python [conda env:test-creation]",
   "language": "python",
   "name": "conda-env-test-creation-py"
  },
  "language_info": {
   "codemirror_mode": {
    "name": "ipython",
    "version": 3
   },
   "file_extension": ".py",
   "mimetype": "text/x-python",
   "name": "python",
   "nbconvert_exporter": "python",
   "pygments_lexer": "ipython3",
   "version": "3.12.3"
  }
 },
 "nbformat": 4,
 "nbformat_minor": 5
}
