{
 "cells": [
  {
   "cell_type": "code",
   "execution_count": 1,
   "id": "4933df8d-6a7e-45c8-8b05-d33811ee09be",
   "metadata": {},
   "outputs": [],
   "source": [
    "from generator import *"
   ]
  },
  {
   "cell_type": "code",
   "execution_count": 2,
   "id": "0eb2cc86-28c7-4080-a288-4bbdbb675bfe",
   "metadata": {},
   "outputs": [],
   "source": [
    "llm = ChatOpenAI(model=\"gpt-3.5-turbo\", temperature=0)\n",
    "checklist = Checklist('../../checklist/checklist.csv', checklist_format=ChecklistFormat.CSV)"
   ]
  },
  {
   "cell_type": "code",
   "execution_count": 3,
   "id": "98ec0b9e-e7f9-4aa7-b28f-49054c6da0db",
   "metadata": {},
   "outputs": [],
   "source": [
    "generator = TestGenerator(llm, checklist=checklist)\n",
    "# generator.prompt = PromptTemplate(\n",
    "#     template=\"You are an expert Machine Learning Engineer.\\n\"\n",
    "#              \"Please generate empty test functions with numpy-format docstring based corresponding requirement of given checklist.\\n\"\n",
    "#              #\"{format_instructions}\\n\" # FIXME: define python function format\n",
    "#              \"Here is the checklist as a list of JSON objects:\\n```{checklist}```\\n\",\n",
    "#     description=\"Test Specification Generation for Machine Learning Project\",\n",
    "#     input_variables=[\"checklist\"],\n",
    "# )"
   ]
  },
  {
   "cell_type": "code",
   "execution_count": 4,
   "id": "9571619f-ffe2-45a4-a3fb-fc2d85e254f0",
   "metadata": {},
   "outputs": [
    {
     "name": "stdout",
     "output_type": "stream",
     "text": [
      "def test_data_file_loads_as_expected():\n",
      "    \"\"\"Tests the data-loading function to ensure files are loaded correctly and return expected results\n",
      "\n",
      "    Parameters:\n",
      "    ----------\n",
      "    Returns:\n",
      "    ----------\n",
      "    \"\"\"\n",
      "    pass\n"
     ]
    }
   ],
   "source": [
    "result = generator.generate_spec()\n",
    "print(generator.spec[1]['Function'])"
   ]
  },
  {
   "cell_type": "code",
   "execution_count": 5,
   "id": "6559ec86-2a1b-40f0-8f55-52b017013126",
   "metadata": {},
   "outputs": [],
   "source": [
    "func = generator.fill_functions_body()"
   ]
  },
  {
   "cell_type": "code",
   "execution_count": 9,
   "id": "9ec8fd8e-dcde-48d0-be58-d7f64f29637f",
   "metadata": {},
   "outputs": [
    {
     "name": "stdout",
     "output_type": "stream",
     "text": [
      "def test_data_file_loads_as_expected():\n",
      "    \"\"\"Tests the data-loading function to ensure files are loaded correctly and return expected results\n",
      "\n",
      "    Parameters:\n",
      "    ----------\n",
      "    Returns:\n",
      "    ----------\n",
      "    \"\"\"\n",
      "    pass\n"
     ]
    }
   ],
   "source": [
    "print(func['results'][0]['Function'])"
   ]
  },
  {
   "cell_type": "code",
   "execution_count": 6,
   "id": "f1101f18-bb84-4f22-abac-0cb2b507db62",
   "metadata": {},
   "outputs": [],
   "source": [
    "response = generator.chain.invoke({\"checklist\": generator.test_items})\n",
    "\n",
    "result = response['results']"
   ]
  },
  {
   "cell_type": "code",
   "execution_count": 7,
   "id": "a6e4cc20-428c-4643-ad51-63f5604c7488",
   "metadata": {},
   "outputs": [
    {
     "name": "stdout",
     "output_type": "stream",
     "text": [
      "def test_data_file_loads_as_expected():\n",
      "    \"\"\"\n",
      "    Ensure that data-loading functions correctly load files when they exist and match the expected format, handle non-existent files appropriately, and return the expected results.\n",
      "    \"\"\"\n",
      "    pass\n"
     ]
    }
   ],
   "source": [
    "print(result[0]['Function'])"
   ]
  },
  {
   "cell_type": "code",
   "execution_count": 9,
   "id": "2b523f4a-5187-45b1-96fe-b8bcc196e011",
   "metadata": {},
   "outputs": [
    {
     "data": {
      "text/plain": [
       "list"
      ]
     },
     "execution_count": 9,
     "metadata": {},
     "output_type": "execute_result"
    }
   ],
   "source": [
    "type(result)"
   ]
  },
  {
   "cell_type": "code",
   "execution_count": null,
   "id": "aab2b917-4d3f-40a0-a40d-1d6a34cebd45",
   "metadata": {},
   "outputs": [],
   "source": []
  }
 ],
 "metadata": {
  "kernelspec": {
   "display_name": "Python [conda env:test-creation]",
   "language": "python",
   "name": "conda-env-test-creation-py"
  },
  "language_info": {
   "codemirror_mode": {
    "name": "ipython",
    "version": 3
   },
   "file_extension": ".py",
   "mimetype": "text/x-python",
   "name": "python",
   "nbconvert_exporter": "python",
   "pygments_lexer": "ipython3",
   "version": "3.12.3"
  }
 },
 "nbformat": 4,
 "nbformat_minor": 5
}
