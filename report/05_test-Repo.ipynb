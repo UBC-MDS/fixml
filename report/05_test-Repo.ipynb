{
 "cells": [
  {
   "cell_type": "code",
   "execution_count": 1,
   "id": "54029210-7c24-49d9-8f32-df94bb3a67f2",
   "metadata": {},
   "outputs": [],
   "source": [
    "from modules.code_analyzer.repo import Repository"
   ]
  },
  {
   "cell_type": "code",
   "execution_count": 4,
   "id": "e5a4e80e-93dd-42d6-8f98-b312e01ca4f3",
   "metadata": {},
   "outputs": [],
   "source": [
    "repo = Repository(\"../../data/raw/openja/lightfm\")"
   ]
  },
  {
   "cell_type": "code",
   "execution_count": 5,
   "id": "916836a6-aef0-4ef8-b908-54bb8294cd0a",
   "metadata": {},
   "outputs": [
    {
     "data": {
      "text/plain": [
       "'/tests/test_fast_functions.py'"
      ]
     },
     "execution_count": 5,
     "metadata": {},
     "output_type": "execute_result"
    }
   ],
   "source": [
    "repo._get_relative_path('../../data/raw/openja/lightfm/tests/test_fast_functions.py')"
   ]
  },
  {
   "cell_type": "code",
   "execution_count": 10,
   "id": "4489a42b-0a06-48a6-b3b7-57d34f79c639",
   "metadata": {},
   "outputs": [
    {
     "data": {
      "text/plain": [
       "'/lightfm/tests/test_fast_functions.py'"
      ]
     },
     "execution_count": 10,
     "metadata": {},
     "output_type": "execute_result"
    }
   ],
   "source": [
    "'lightfm/lightfm/tests/test_fast_functions.py'.replace('lightfm', '', 1)"
   ]
  },
  {
   "cell_type": "code",
   "execution_count": 5,
   "id": "2212de45-e9b9-4d09-a467-af0e5e6b654f",
   "metadata": {},
   "outputs": [
    {
     "data": {
      "text/plain": [
       "'https://github.com/lyst/lightfm/blob/master//tests/test_cross_validation.py#L17'"
      ]
     },
     "execution_count": 5,
     "metadata": {},
     "output_type": "execute_result"
    }
   ],
   "source": [
    "repo._get_git_direct_link(file='/tests/test_cross_validation.py', lineno=17)"
   ]
  },
  {
   "cell_type": "code",
   "execution_count": 7,
   "id": "21f2c5e8-9369-4c58-8ff9-c1ae043a5893",
   "metadata": {},
   "outputs": [
    {
     "data": {
      "text/plain": [
       "17"
      ]
     },
     "execution_count": 7,
     "metadata": {},
     "output_type": "execute_result"
    }
   ],
   "source": [
    "repo.ffl_map['../../data/raw/openja/lightfm/tests/test_cross_validation.py']['test_random_train_test_split']"
   ]
  },
  {
   "cell_type": "markdown",
   "id": "5efc2416-6b8c-4214-b579-6bab7e6c1b2f",
   "metadata": {},
   "source": [
    "# "
   ]
  },
  {
   "cell_type": "code",
   "execution_count": 15,
   "id": "869e3aad-81fe-4713-809b-4e92604b0258",
   "metadata": {},
   "outputs": [],
   "source": [
    "# import os\n",
    "# ?os.walk"
   ]
  },
  {
   "cell_type": "code",
   "execution_count": 16,
   "id": "3da5d78b-7101-4237-bd2d-8d20ad5ee4e1",
   "metadata": {},
   "outputs": [],
   "source": [
    "# tmp = os.walk(\"../../data/raw/openja/lightfm\")\n",
    "# list(tmp)"
   ]
  },
  {
   "cell_type": "code",
   "execution_count": 17,
   "id": "38a4e841-3e11-4d0f-bc2b-62a3adf97d10",
   "metadata": {},
   "outputs": [
    {
     "data": {
      "text/plain": [
       "defaultdict(list,\n",
       "            {'Python': ['../../data/raw/openja/lightfm/tests/test_fast_functions.py',\n",
       "              '../../data/raw/openja/lightfm/tests/test_movielens.py',\n",
       "              '../../data/raw/openja/lightfm/tests/test_datasets.py',\n",
       "              '../../data/raw/openja/lightfm/tests/test_cross_validation.py',\n",
       "              '../../data/raw/openja/lightfm/tests/test_evaluation.py',\n",
       "              '../../data/raw/openja/lightfm/tests/test_data.py',\n",
       "              '../../data/raw/openja/lightfm/tests/test_api.py']})"
      ]
     },
     "execution_count": 17,
     "metadata": {},
     "output_type": "execute_result"
    }
   ],
   "source": [
    "repo.list_test_files()"
   ]
  },
  {
   "cell_type": "code",
   "execution_count": 23,
   "id": "28b537a1-ede0-427c-a9ba-34b6a4337fa3",
   "metadata": {},
   "outputs": [],
   "source": [
    "import ast"
   ]
  },
  {
   "cell_type": "code",
   "execution_count": 22,
   "id": "752f1160-af59-4eb6-bd52-cacec897abd8",
   "metadata": {},
   "outputs": [],
   "source": [
    "from modules.code_analyzer.analyzers.python import PythonASTCodeAnalyzer\n",
    "\n",
    "ast_obj = PythonASTCodeAnalyzer()\n",
    "ast_obj.read(\"../../data/raw/openja/lightfm/tests/test_movielens.py\")"
   ]
  },
  {
   "cell_type": "code",
   "execution_count": 27,
   "id": "93c047fb-6ede-4f70-bd72-21ffe1bf0516",
   "metadata": {},
   "outputs": [
    {
     "data": {
      "text/plain": [
       "<bound method PythonASTCodeAnalyzer.list_all_functions of <modules.code_analyzer.analyzers.python.PythonASTCodeAnalyzer object at 0x105880aa0>>"
      ]
     },
     "execution_count": 27,
     "metadata": {},
     "output_type": "execute_result"
    }
   ],
   "source": [
    "ast_obj.list_all_functions"
   ]
  },
  {
   "cell_type": "code",
   "execution_count": 30,
   "id": "3fda31fe-4774-4dba-bfa2-5c1d4e5f0521",
   "metadata": {},
   "outputs": [
    {
     "data": {
      "text/plain": [
       "['__class__',\n",
       " '__delattr__',\n",
       " '__dict__',\n",
       " '__dir__',\n",
       " '__doc__',\n",
       " '__eq__',\n",
       " '__format__',\n",
       " '__ge__',\n",
       " '__getattribute__',\n",
       " '__getstate__',\n",
       " '__gt__',\n",
       " '__hash__',\n",
       " '__init__',\n",
       " '__init_subclass__',\n",
       " '__le__',\n",
       " '__lt__',\n",
       " '__match_args__',\n",
       " '__module__',\n",
       " '__ne__',\n",
       " '__new__',\n",
       " '__reduce__',\n",
       " '__reduce_ex__',\n",
       " '__repr__',\n",
       " '__setattr__',\n",
       " '__sizeof__',\n",
       " '__str__',\n",
       " '__subclasshook__',\n",
       " '__weakref__',\n",
       " '_attributes',\n",
       " '_fields',\n",
       " 'args',\n",
       " 'body',\n",
       " 'col_offset',\n",
       " 'decorator_list',\n",
       " 'end_col_offset',\n",
       " 'end_lineno',\n",
       " 'lineno',\n",
       " 'name',\n",
       " 'returns',\n",
       " 'type_comment',\n",
       " 'type_params']"
      ]
     },
     "execution_count": 30,
     "metadata": {},
     "output_type": "execute_result"
    }
   ],
   "source": [
    "tmp = [node for node in ast.walk(ast_obj._tree) if isinstance(node, ast.FunctionDef)]\n",
    "dir(tmp[0])"
   ]
  },
  {
   "cell_type": "code",
   "execution_count": 41,
   "id": "7171cff8-93b9-40ef-9682-cba04f1fd5bc",
   "metadata": {},
   "outputs": [
    {
     "data": {
      "text/plain": [
       "'model'"
      ]
     },
     "execution_count": 41,
     "metadata": {},
     "output_type": "execute_result"
    }
   ],
   "source": [
    "tmp[0].args.args[0].arg"
   ]
  },
  {
   "cell_type": "code",
   "execution_count": 66,
   "id": "9c24efd9-ecdb-4a50-950f-7f487669470b",
   "metadata": {},
   "outputs": [
    {
     "data": {
      "text/plain": [
       "'_get_metrics'"
      ]
     },
     "execution_count": 66,
     "metadata": {},
     "output_type": "execute_result"
    }
   ],
   "source": [
    "tmp[0].name"
   ]
  },
  {
   "cell_type": "code",
   "execution_count": 34,
   "id": "c860f762-963f-46ed-99dc-c1a4c3d158b7",
   "metadata": {},
   "outputs": [
    {
     "data": {
      "text/plain": [
       "19"
      ]
     },
     "execution_count": 34,
     "metadata": {},
     "output_type": "execute_result"
    }
   ],
   "source": [
    "tmp[0].lineno"
   ]
  },
  {
   "cell_type": "code",
   "execution_count": 42,
   "id": "3b412bc9-4f70-4e3a-8210-fcadd10463e0",
   "metadata": {},
   "outputs": [
    {
     "data": {
      "text/plain": [
       "defaultdict(list,\n",
       "            {'Python': ['../../data/raw/openja/lightfm/setup.py',\n",
       "              '../../data/raw/openja/lightfm/lightfm/lightfm.py',\n",
       "              '../../data/raw/openja/lightfm/lightfm/version.py',\n",
       "              '../../data/raw/openja/lightfm/lightfm/evaluation.py',\n",
       "              '../../data/raw/openja/lightfm/lightfm/__init__.py',\n",
       "              '../../data/raw/openja/lightfm/lightfm/_lightfm_fast.py',\n",
       "              '../../data/raw/openja/lightfm/lightfm/data.py',\n",
       "              '../../data/raw/openja/lightfm/lightfm/cross_validation.py',\n",
       "              '../../data/raw/openja/lightfm/lightfm/datasets/_common.py',\n",
       "              '../../data/raw/openja/lightfm/lightfm/datasets/__init__.py',\n",
       "              '../../data/raw/openja/lightfm/lightfm/datasets/movielens.py',\n",
       "              '../../data/raw/openja/lightfm/lightfm/datasets/stackexchange.py',\n",
       "              '../../data/raw/openja/lightfm/tests/test_fast_functions.py',\n",
       "              '../../data/raw/openja/lightfm/tests/test_movielens.py',\n",
       "              '../../data/raw/openja/lightfm/tests/test_datasets.py',\n",
       "              '../../data/raw/openja/lightfm/tests/test_cross_validation.py',\n",
       "              '../../data/raw/openja/lightfm/tests/__init__.py',\n",
       "              '../../data/raw/openja/lightfm/tests/test_evaluation.py',\n",
       "              '../../data/raw/openja/lightfm/tests/test_data.py',\n",
       "              '../../data/raw/openja/lightfm/tests/test_api.py',\n",
       "              '../../data/raw/openja/lightfm/examples/dataset/download.py',\n",
       "              '../../data/raw/openja/lightfm/examples/movielens/data.py',\n",
       "              '../../data/raw/openja/lightfm/doc/conf.py'],\n",
       "             'C': ['../../data/raw/openja/lightfm/lightfm/_lightfm_fast_no_openmp.c',\n",
       "              '../../data/raw/openja/lightfm/lightfm/_lightfm_fast_openmp.c'],\n",
       "             'IPython Notebook': ['../../data/raw/openja/lightfm/examples/stackexchange/hybrid_crossvalidated.ipynb',\n",
       "              '../../data/raw/openja/lightfm/examples/ann/annoy_nsmlib_example.ipynb',\n",
       "              '../../data/raw/openja/lightfm/examples/quickstart/short_quickstart.ipynb',\n",
       "              '../../data/raw/openja/lightfm/examples/quickstart/quickstart.ipynb',\n",
       "              '../../data/raw/openja/lightfm/examples/movielens/learning_schedules.ipynb',\n",
       "              '../../data/raw/openja/lightfm/examples/movielens/warp_loss.ipynb',\n",
       "              '../../data/raw/openja/lightfm/examples/movielens/example.ipynb']})"
      ]
     },
     "execution_count": 42,
     "metadata": {},
     "output_type": "execute_result"
    }
   ],
   "source": [
    "repo.lf_map"
   ]
  },
  {
   "cell_type": "code",
   "execution_count": 43,
   "id": "9d5a8c82-a55b-4d71-be9f-e0eb79e4baba",
   "metadata": {},
   "outputs": [
    {
     "data": {
      "text/plain": [
       "[]"
      ]
     },
     "execution_count": 43,
     "metadata": {},
     "output_type": "execute_result"
    }
   ],
   "source": [
    "repo.files"
   ]
  },
  {
   "cell_type": "code",
   "execution_count": 62,
   "id": "e8edafbf-b00c-4709-a206-220d29249222",
   "metadata": {},
   "outputs": [],
   "source": [
    "from collections import defaultdict\n",
    "test = defaultdict(lambda: defaultdict(int))\n"
   ]
  },
  {
   "cell_type": "code",
   "execution_count": 63,
   "id": "fd764b00-4638-4e28-8c57-ea7959eb38f9",
   "metadata": {},
   "outputs": [
    {
     "data": {
      "text/plain": [
       "defaultdict(int, {})"
      ]
     },
     "execution_count": 63,
     "metadata": {},
     "output_type": "execute_result"
    }
   ],
   "source": [
    "test['../../data/raw/openja/lightfm/lightfm/lightfm.py']"
   ]
  },
  {
   "cell_type": "code",
   "execution_count": 64,
   "id": "49b6a3c6-3e0f-449f-bfce-67f971620b44",
   "metadata": {},
   "outputs": [
    {
     "data": {
      "text/plain": [
       "0"
      ]
     },
     "execution_count": 64,
     "metadata": {},
     "output_type": "execute_result"
    }
   ],
   "source": [
    "test['../../data/raw/openja/lightfm/lightfm/lightfm.py']['movielen']"
   ]
  },
  {
   "cell_type": "code",
   "execution_count": 56,
   "id": "cd609747-4fe8-40e9-b1b4-4e7204873075",
   "metadata": {},
   "outputs": [
    {
     "data": {
      "text/plain": [
       "defaultdict(<function __main__.<lambda>()>,\n",
       "            {'../../data/raw/openja/lightfm/lightfm/lightfm.py': defaultdict(int,\n",
       "                         {'movielen': 0})})"
      ]
     },
     "execution_count": 56,
     "metadata": {},
     "output_type": "execute_result"
    }
   ],
   "source": [
    "test"
   ]
  },
  {
   "cell_type": "code",
   "execution_count": 8,
   "id": "81bf72d3-9124-49ec-a997-0ac375bef5cf",
   "metadata": {},
   "outputs": [],
   "source": [
    "import configparser"
   ]
  },
  {
   "cell_type": "code",
   "execution_count": 24,
   "id": "716ec730-2b3c-442e-bcb7-adb33572e245",
   "metadata": {},
   "outputs": [
    {
     "data": {
      "text/plain": [
       "['../../data/raw/openja/lightfm/.git/config']"
      ]
     },
     "execution_count": 24,
     "metadata": {},
     "output_type": "execute_result"
    }
   ],
   "source": [
    "config = configparser.ConfigParser()\n",
    "config.read('../../data/raw/openja/lightfm/.git/config')"
   ]
  },
  {
   "cell_type": "code",
   "execution_count": 48,
   "id": "366fbacc-a1e0-4c10-b61c-1dd02d1da40c",
   "metadata": {},
   "outputs": [
    {
     "data": {
      "text/plain": [
       "['DEFAULT', 'core', 'remote \"origin\"', 'branch \"master\"']"
      ]
     },
     "execution_count": 48,
     "metadata": {},
     "output_type": "execute_result"
    }
   ],
   "source": [
    "list(config)"
   ]
  },
  {
   "cell_type": "code",
   "execution_count": 37,
   "id": "b2543684-ae0c-4007-8acf-8680a10e9893",
   "metadata": {},
   "outputs": [
    {
     "data": {
      "text/plain": [
       "'git@github.com:lyst/lightfm.git'"
      ]
     },
     "execution_count": 37,
     "metadata": {},
     "output_type": "execute_result"
    }
   ],
   "source": [
    "url = config['remote \"origin\"']['url']\n",
    "url"
   ]
  },
  {
   "cell_type": "code",
   "execution_count": 47,
   "id": "364bd182-b9f4-468d-8191-37068667d18f",
   "metadata": {},
   "outputs": [
    {
     "data": {
      "text/plain": [
       "('github.com', 'lyst', 'lightfm')"
      ]
     },
     "execution_count": 47,
     "metadata": {},
     "output_type": "execute_result"
    }
   ],
   "source": [
    "import re\n",
    "re.search('git@(.*?):(.*?)/(.*?).git', url).group(1,2,3)"
   ]
  },
  {
   "cell_type": "code",
   "execution_count": null,
   "id": "2a7ff3bd-efc8-4670-b09b-e15eae2e9a5c",
   "metadata": {},
   "outputs": [],
   "source": [
    "re.search('https://(.*?)/(.*?)/(.*?).git', 'https://github.com/UBC-MDS/test-creation.git')"
   ]
  },
  {
   "cell_type": "code",
   "execution_count": null,
   "id": "d514277a-6427-4c49-8d90-e76988982492",
   "metadata": {},
   "outputs": [],
   "source": []
  },
  {
   "cell_type": "code",
   "execution_count": 34,
   "id": "ed3f056d-1e37-47fb-a994-05f777f1f37c",
   "metadata": {},
   "outputs": [
    {
     "ename": "FileNotFoundError",
     "evalue": "[Errno 2] No such file or directory: '.git/config'",
     "output_type": "error",
     "traceback": [
      "\u001b[0;31m---------------------------------------------------------------------------\u001b[0m",
      "\u001b[0;31mFileNotFoundError\u001b[0m                         Traceback (most recent call last)",
      "Cell \u001b[0;32mIn[34], line 1\u001b[0m\n\u001b[0;32m----> 1\u001b[0m \u001b[38;5;28;43mopen\u001b[39;49m\u001b[43m(\u001b[49m\u001b[38;5;124;43m'\u001b[39;49m\u001b[38;5;124;43m.git/config\u001b[39;49m\u001b[38;5;124;43m'\u001b[39;49m\u001b[43m)\u001b[49m\n",
      "File \u001b[0;32m~/miniconda3/envs/test-creation/lib/python3.12/site-packages/IPython/core/interactiveshell.py:324\u001b[0m, in \u001b[0;36m_modified_open\u001b[0;34m(file, *args, **kwargs)\u001b[0m\n\u001b[1;32m    317\u001b[0m \u001b[38;5;28;01mif\u001b[39;00m file \u001b[38;5;129;01min\u001b[39;00m {\u001b[38;5;241m0\u001b[39m, \u001b[38;5;241m1\u001b[39m, \u001b[38;5;241m2\u001b[39m}:\n\u001b[1;32m    318\u001b[0m     \u001b[38;5;28;01mraise\u001b[39;00m \u001b[38;5;167;01mValueError\u001b[39;00m(\n\u001b[1;32m    319\u001b[0m         \u001b[38;5;124mf\u001b[39m\u001b[38;5;124m\"\u001b[39m\u001b[38;5;124mIPython won\u001b[39m\u001b[38;5;124m'\u001b[39m\u001b[38;5;124mt let you open fd=\u001b[39m\u001b[38;5;132;01m{\u001b[39;00mfile\u001b[38;5;132;01m}\u001b[39;00m\u001b[38;5;124m by default \u001b[39m\u001b[38;5;124m\"\u001b[39m\n\u001b[1;32m    320\u001b[0m         \u001b[38;5;124m\"\u001b[39m\u001b[38;5;124mas it is likely to crash IPython. If you know what you are doing, \u001b[39m\u001b[38;5;124m\"\u001b[39m\n\u001b[1;32m    321\u001b[0m         \u001b[38;5;124m\"\u001b[39m\u001b[38;5;124myou can use builtins\u001b[39m\u001b[38;5;124m'\u001b[39m\u001b[38;5;124m open.\u001b[39m\u001b[38;5;124m\"\u001b[39m\n\u001b[1;32m    322\u001b[0m     )\n\u001b[0;32m--> 324\u001b[0m \u001b[38;5;28;01mreturn\u001b[39;00m \u001b[43mio_open\u001b[49m\u001b[43m(\u001b[49m\u001b[43mfile\u001b[49m\u001b[43m,\u001b[49m\u001b[43m \u001b[49m\u001b[38;5;241;43m*\u001b[39;49m\u001b[43margs\u001b[49m\u001b[43m,\u001b[49m\u001b[43m \u001b[49m\u001b[38;5;241;43m*\u001b[39;49m\u001b[38;5;241;43m*\u001b[39;49m\u001b[43mkwargs\u001b[49m\u001b[43m)\u001b[49m\n",
      "\u001b[0;31mFileNotFoundError\u001b[0m: [Errno 2] No such file or directory: '.git/config'"
     ]
    }
   ],
   "source": [
    "open('.git/config')"
   ]
  },
  {
   "cell_type": "code",
   "execution_count": 23,
   "id": "af7c6adb-1d77-4930-b01e-6ff8793b8293",
   "metadata": {},
   "outputs": [
    {
     "data": {
      "text/plain": [
       "[('../../data/raw/openja/lightfm',\n",
       "  ['lightfm', 'tests', 'examples', '.github', 'doc', '.git'],\n",
       "  ['LICENSE',\n",
       "   'changelog.md',\n",
       "   '.pre-commit-config.yaml',\n",
       "   'test-requirements.txt',\n",
       "   'Dockerfile',\n",
       "   'Makefile',\n",
       "   'lightfm.png',\n",
       "   'CONTRIBUTORS',\n",
       "   'README.md',\n",
       "   'setup.py',\n",
       "   '.dockerignore',\n",
       "   'lint-requirements.txt',\n",
       "   'docs-requirements.txt',\n",
       "   '.gitignore',\n",
       "   'setup.cfg',\n",
       "   'docker-compose.yml',\n",
       "   '.travis.yml']),\n",
       " ('../../data/raw/openja/lightfm/lightfm',\n",
       "  ['datasets'],\n",
       "  ['lightfm.py',\n",
       "   'version.py',\n",
       "   '_lightfm_fast_no_openmp.c',\n",
       "   'evaluation.py',\n",
       "   '__init__.py',\n",
       "   '_lightfm_fast_openmp.c',\n",
       "   '_lightfm_fast.py',\n",
       "   '_lightfm_fast.pyx.template',\n",
       "   'data.py',\n",
       "   'cross_validation.py']),\n",
       " ('../../data/raw/openja/lightfm/lightfm/datasets',\n",
       "  [],\n",
       "  ['_common.py', '__init__.py', 'movielens.py', 'stackexchange.py']),\n",
       " ('../../data/raw/openja/lightfm/tests',\n",
       "  [],\n",
       "  ['test_fast_functions.py',\n",
       "   'test_movielens.py',\n",
       "   'test_datasets.py',\n",
       "   'test_cross_validation.py',\n",
       "   '__init__.py',\n",
       "   'test_evaluation.py',\n",
       "   'test_data.py',\n",
       "   'test_api.py']),\n",
       " ('../../data/raw/openja/lightfm/examples',\n",
       "  ['stackexchange', 'ann', 'dataset', 'quickstart', 'movielens'],\n",
       "  []),\n",
       " ('../../data/raw/openja/lightfm/examples/stackexchange',\n",
       "  [],\n",
       "  ['hybrid_crossvalidated.ipynb']),\n",
       " ('../../data/raw/openja/lightfm/examples/ann',\n",
       "  [],\n",
       "  ['annoy_nsmlib_example.ipynb']),\n",
       " ('../../data/raw/openja/lightfm/examples/dataset',\n",
       "  [],\n",
       "  ['Makefile', 'download.py', 'dataset.pmd', 'readme.rst']),\n",
       " ('../../data/raw/openja/lightfm/examples/quickstart',\n",
       "  [],\n",
       "  ['short_quickstart.ipynb', 'quickstart.ipynb']),\n",
       " ('../../data/raw/openja/lightfm/examples/movielens',\n",
       "  [],\n",
       "  ['learning_schedules.ipynb',\n",
       "   'warp_loss.ipynb',\n",
       "   'readme.md',\n",
       "   'example.ipynb',\n",
       "   'data.py']),\n",
       " ('../../data/raw/openja/lightfm/.github',\n",
       "  ['workflows'],\n",
       "  ['ISSUE_TEMPLATE.md']),\n",
       " ('../../data/raw/openja/lightfm/.github/workflows', [], ['test.yaml']),\n",
       " ('../../data/raw/openja/lightfm/doc',\n",
       "  ['examples'],\n",
       "  ['index.rst',\n",
       "   'cross_validation.rst',\n",
       "   'Makefile',\n",
       "   'home.rst',\n",
       "   'conf.py',\n",
       "   'examples.rst',\n",
       "   'lightfm.evaluation.rst',\n",
       "   'lightfm.rst',\n",
       "   'quickstart.rst',\n",
       "   'lightfm.data.rst',\n",
       "   'datasets.rst',\n",
       "   'faq.rst']),\n",
       " ('../../data/raw/openja/lightfm/doc/examples',\n",
       "  ['warp_loss_files', 'learning_schedules_files'],\n",
       "  ['dataset.rst',\n",
       "   'hybrid_crossvalidated.rst',\n",
       "   'movielens_implicit.rst',\n",
       "   'learning_schedules.rst',\n",
       "   'warp_loss.rst']),\n",
       " ('../../data/raw/openja/lightfm/doc/examples/warp_loss_files',\n",
       "  [],\n",
       "  ['warp_loss_9_0.png',\n",
       "   'warp_loss_9_1.png',\n",
       "   'warp_loss_5_0.png',\n",
       "   'warp_loss_7_0.png']),\n",
       " ('../../data/raw/openja/lightfm/doc/examples/learning_schedules_files',\n",
       "  [],\n",
       "  ['learning_schedules_8_0.png', 'learning_schedules_5_0.png']),\n",
       " ('../../data/raw/openja/lightfm/.git',\n",
       "  ['objects', 'info', 'logs', 'hooks', 'refs'],\n",
       "  ['config', 'HEAD', 'description', 'index', 'packed-refs']),\n",
       " ('../../data/raw/openja/lightfm/.git/objects', ['pack', 'info'], []),\n",
       " ('../../data/raw/openja/lightfm/.git/objects/pack',\n",
       "  [],\n",
       "  ['pack-acad3c15ad08e663e9aba2561e14e27befc2bb2d.idx',\n",
       "   'pack-acad3c15ad08e663e9aba2561e14e27befc2bb2d.pack']),\n",
       " ('../../data/raw/openja/lightfm/.git/objects/info', [], []),\n",
       " ('../../data/raw/openja/lightfm/.git/info', [], ['exclude']),\n",
       " ('../../data/raw/openja/lightfm/.git/logs', ['refs'], ['HEAD']),\n",
       " ('../../data/raw/openja/lightfm/.git/logs/refs', ['heads', 'remotes'], []),\n",
       " ('../../data/raw/openja/lightfm/.git/logs/refs/heads', [], ['master']),\n",
       " ('../../data/raw/openja/lightfm/.git/logs/refs/remotes', ['origin'], []),\n",
       " ('../../data/raw/openja/lightfm/.git/logs/refs/remotes/origin', [], ['HEAD']),\n",
       " ('../../data/raw/openja/lightfm/.git/hooks',\n",
       "  [],\n",
       "  ['commit-msg.sample',\n",
       "   'pre-rebase.sample',\n",
       "   'pre-commit.sample',\n",
       "   'applypatch-msg.sample',\n",
       "   'fsmonitor-watchman.sample',\n",
       "   'pre-receive.sample',\n",
       "   'prepare-commit-msg.sample',\n",
       "   'post-update.sample',\n",
       "   'pre-merge-commit.sample',\n",
       "   'pre-applypatch.sample',\n",
       "   'pre-push.sample',\n",
       "   'update.sample',\n",
       "   'push-to-checkout.sample']),\n",
       " ('../../data/raw/openja/lightfm/.git/refs', ['heads', 'tags', 'remotes'], []),\n",
       " ('../../data/raw/openja/lightfm/.git/refs/heads', [], ['master']),\n",
       " ('../../data/raw/openja/lightfm/.git/refs/tags', [], []),\n",
       " ('../../data/raw/openja/lightfm/.git/refs/remotes', ['origin'], []),\n",
       " ('../../data/raw/openja/lightfm/.git/refs/remotes/origin', [], ['HEAD'])]"
      ]
     },
     "execution_count": 23,
     "metadata": {},
     "output_type": "execute_result"
    }
   ],
   "source": [
    "import os\n",
    "list(os.walk('../../data/raw/openja/lightfm'))"
   ]
  },
  {
   "cell_type": "code",
   "execution_count": null,
   "id": "e93acc16-8346-4899-bd6a-0a3417fcfe4b",
   "metadata": {},
   "outputs": [],
   "source": []
  }
 ],
 "metadata": {
  "kernelspec": {
   "display_name": "Python [conda env:test-creation]",
   "language": "python",
   "name": "conda-env-test-creation-py"
  },
  "language_info": {
   "codemirror_mode": {
    "name": "ipython",
    "version": 3
   },
   "file_extension": ".py",
   "mimetype": "text/x-python",
   "name": "python",
   "nbconvert_exporter": "python",
   "pygments_lexer": "ipython3",
   "version": "3.12.3"
  }
 },
 "nbformat": 4,
 "nbformat_minor": 5
}
