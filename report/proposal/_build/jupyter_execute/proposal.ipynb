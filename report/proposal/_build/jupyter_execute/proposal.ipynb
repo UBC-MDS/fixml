{
 "cells": [
  {
   "cell_type": "markdown",
   "metadata": {},
   "source": [
    "# Proposal Report - Checklists and LLM prompts for efficient and effective test creation in data analysis\n",
    "\n",
    "by John Shiu, Orix Au Yeung, Tony Shum, Yingzi Jin"
   ]
  },
  {
   "cell_type": "markdown",
   "metadata": {},
   "source": [
    "## Executive Summary\n",
    "\n",
    "The rapid growth of global artificial intelligence (AI) markets presents opportunities and challenges. While AI systems have the potential to impact various aspects of human life, ensuring their software quality remains a significant concern. Current testing strategies for machine learning (ML) systems lack standardization and comprehensiveness, which poses risks to stakeholders, such as financial losses and safety hazards.\n",
    "\n",
    "Our proposal addresses this challenge by developing a manually curated checklist which contains best practices and recommendations in testing ML systems. Additionally, an end-to-end application incorporating the checklist and Large Language Model (LLM) will be developed to analyze given ML system source codes and provide test completeness evaluation, missing test recommendations, and test function specification generation. Our proposed solution will enable users to systematically assess, improve, and include tests tailored to their ML systems through a combination of human expertise codified within the checklist and parametric memory from LLMs.\n",
    "\n",
    "In the following weeks, we will develop and refine our product through a swift and efficient iterative development approach, with the aim to deliver a rigorously tested and fully-documented system to our partners by the end of the project."
   ]
  },
  {
   "cell_type": "markdown",
   "metadata": {},
   "source": [
    "## Introduction\n",
    "\n",
    "### Problem Statement\n",
    "\n",
    "The global artificial intelligence (AI) market is growing exponentially {cite}`grand2021artificial`, driven by its ability to autonomously make complex decisions impacting various aspects of human life, including financial transactions, autonomous transportation, and medical diagnosis. \n",
    "\n",
    "However, ensuring the software quality of these systems remains a significant challenge {cite}`openja2023studying`. Specifically, the lack of a standardized and comprehensive approach to testing machine learning (ML) systems introduces potential risks to stakeholders. For example, inadequate quality assurance in ML systems can lead to severe consequences, such as substantial financial losses {cite}`Asheeta2019` and safety hazards. \n",
    "\n",
    "Therefore, defining and promoting an industry standard and establishing robust testing methodologies for these systems is crucial. But how?\n",
    "\n",
    "### Our Objectives\n",
    "\n",
    "We propose to develop testing suites diagnostic tools based on Large Language Models (LLMs) and curate a checklist to facilitate comprehensive testing of ML systems with flexibility. Our goal is to enhance applied ML software's trustworthiness, quality, and reproducibility across both the industry and academia {cite}`kapoor2022leakage`."
   ]
  },
  {
   "cell_type": "markdown",
   "metadata": {
    "editable": true,
    "slideshow": {
     "slide_type": ""
    },
    "tags": []
   },
   "source": [
    "## Our Product\n",
    "\n",
    "Our solution offers an end-to-end application for evaluating and enhancing the robustness of users' ML systems."
   ]
  },
  {
   "cell_type": "markdown",
   "metadata": {},
   "source": [
    "```{figure} ../../img/proposed_system_overview.png\n",
    "---\n",
    "name: overview-diagram\n",
    "---\n",
    "Main components and workflow of the proposed system. The checklist would be written in [YAML](https://yaml.org/) to maximize readability for both humans and machines. We hope this will encourage researchers/users to read, understand and modify the checklist items, while keeping the checklist closely integrated with other components in our system.\n",
    "```"
   ]
  },
  {
   "cell_type": "markdown",
   "metadata": {
    "editable": true,
    "slideshow": {
     "slide_type": ""
    },
    "tags": []
   },
   "source": [
    "One big challenge in utilizing LLMs to reliably and consistently evaluate ML systems is their tendency to generate illogical and/or factually wrong information known as hallucination {cite}`zhang2023sirens`.\n",
    "\n",
    "To combat this, the proposed system will incorporate a checklist ([Fig. 1](overview-diagram)) which would be curated manually and incorporate best practices in software testing and identified areas to be tested inside ML pipeline from human experts and past research.\n",
    "\n",
    "This checklist will be our basis in evaluating the effectiveness and completeness of existing tests in a given codebase. Relevant information will be injected into a prompt template, which the LLMs would then be prompted to follow the checklist **exactly** during the evaluation.\n",
    "\n",
    "Here is an example of how the proposed checklist would be structured:"
   ]
  },
  {
   "cell_type": "markdown",
   "metadata": {
    "editable": true,
    "slideshow": {
     "slide_type": ""
    },
    "tags": [
     "hide-cell"
    ]
   },
   "source": [
    "```{toggle}\n",
    "```yaml\n",
    "%YAML 1.2\n",
    "---\n",
    "Title: Checklist for Tests in Machine Learning Projects\n",
    "Description: >\n",
    "  This is a comprehensive checklist for evaluating the data and ML pipeline\n",
    "  based on identified testing strategies from experts in the field.\n",
    "Test Areas:\n",
    "  - Topic: General\n",
    "    Description: >\n",
    "      The following items describe best practices for all tests to be\n",
    "      written.\n",
    "    Tests:\n",
    "      - Title: Write Descriptive Test Names\n",
    "        Requirement: >\n",
    "          Every test function should have a clear, descriptive name\n",
    "        Explanation: >\n",
    "          If out tests are narrow and sufficiently descriptive, the test\n",
    "          name itself may give us enough information to start debugging.\n",
    "          This also helps us to identify what is being tested inside the\n",
    "          function.\n",
    "        References:\n",
    "          - https://testing.googleblog.com/2014/10/testing-on-toilet-writing-descriptive.html\n",
    "          - https://testing.googleblog.com/2024/05/test-failures-should-be-actionable.html\n",
    "\n",
    "      - Title: Keep Tests Focused\n",
    "        Requirement: >\n",
    "          Each test should only test one scenario, meaning that in each\n",
    "          test we should only use one set of mock data.\n",
    "        Explanation: >\n",
    "          If we test multiple scenarios in a single test, it is hard to\n",
    "          idenitfy exactly what went wrong. Keeping one scenario in a\n",
    "          single test helps us to isolate problematic scenarios.\n",
    "        References:\n",
    "          - https://testing.googleblog.com/2018/06/testing-on-toilet-keep-tests-focused.html\n",
    "\n",
    "      - Title: Prefer Narrow Assertions in Unit Tests\n",
    "        Requirement: >\n",
    "          The assertions inside the tests should be narrow, meaning that\n",
    "          when checking a complex object, any unrelated behavior should\n",
    "          not be tested - Assert on only relevant behaviors.\n",
    "        Explanation: >\n",
    "          If we have overly wide assertions (such as depending on every\n",
    "          field of a complex output proto), the test may fail for many\n",
    "          unimportant reasons. False positives are the opposite of\n",
    "          actionable.\n",
    "        References:\n",
    "          - https://testing.googleblog.com/2024/04/prefer-narrow-assertions-in-unit-tests.html\n",
    "\n",
    "      - Title: Keep Cause and Effect Clear\n",
    "        Requirement: >\n",
    "          The modifications and the assertions of an object's behavior\n",
    "          in a single test should not be far away from each other.\n",
    "        Explanation: >\n",
    "          Refrain from using large global test data structures shared\n",
    "          across multiple unit tests. This will allow for clear\n",
    "          identification of each test's setup and the cause and effect.\n",
    "        References:\n",
    "          - https://testing.googleblog.com/2017/01/testing-on-toilet-keep-cause-and-effect.html\n",
    "\n",
    "  - Topic: Data Presence\n",
    "    Description: >\n",
    "      The following items describe tests that need to be done for testing\n",
    "      the presence of data.\n",
    "    Tests:\n",
    "      - Title: ...\n",
    "        Requirement: ...\n",
    "        Explanation: ...\n",
    "        References:\n",
    "          - ...\n",
    "\n",
    "  - Topic: Data Quality\n",
    "    Description: >\n",
    "      The following items describe tests that need to be done for testing\n",
    "      the quality of data.\n",
    "    Tests:\n",
    "      - Title: ...\n",
    "        Requirement: ...\n",
    "        Explanation: ...\n",
    "        References:\n",
    "          - ...\n",
    "\n",
    "  - Topic: Data Ingestion\n",
    "    Description: >\n",
    "      The following items describe tests that need to be done for testing\n",
    "      if the data is ingestion properly.\n",
    "    Tests:\n",
    "      - Title: ...\n",
    "        Requirement: ...\n",
    "        Explanation: ...\n",
    "        References:\n",
    "          - ...\n",
    "\n",
    "  - Topic: Model Fitting\n",
    "    Description: >\n",
    "      The following items describe tests that need to be done for testing\n",
    "      the model fitting process.\n",
    "    Tests:\n",
    "      - Title: ...\n",
    "        Requirement: ...\n",
    "        Explanation: ...\n",
    "        References:\n",
    "          - ...\n",
    "\n",
    "  - Topic: Model Evaluation\n",
    "    Description: >\n",
    "      The following items describe tests that need to be done for testing\n",
    "      the model evaluation process.\n",
    "    Tests:\n",
    "      - Title: ...\n",
    "        Requirement: ...\n",
    "        Explanation: ...\n",
    "        References:\n",
    "          - ...\n",
    "\n",
    "  - Topic: Artifact Testing\n",
    "    Description: >\n",
    "      The following items describe tests that need to be done for testing\n",
    "      any artifacts that are created from the project.\n",
    "    Tests:\n",
    "      - Title: ...\n",
    "        Requirement: ...\n",
    "        Explanation: ...\n",
    "        References:\n",
    "          - ...\n",
    "```"
   ]
  },
  {
   "cell_type": "markdown",
   "metadata": {
    "jp-MarkdownHeadingCollapsed": true
   },
   "source": [
    "### Evaluation Artifacts\n",
    "\n",
    "The end goal of our product is to generate the following three artifacts in relation to the evaluation of a given ML system codebase:\n",
    "\n",
    "1. **ML Test Completeness Score**: The application utilizes LLMs and our curated checklist to analyze users' ML system source code and returns a comprehensive score of the system's test quality.\n",
    "  \n",
    "2. **Missing Test Recommendations**: The application evaluates the adequacy of existing tests for users' ML code and offers recommendations for additional, system-specific tests to enhance testing effectiveness.\n",
    "  \n",
    "3. **Test Function Specification Generation**: Users select desired test recommendations and prompt the application to generate test function specifications and references. These are reliable starting points for users to enrich the ML system test suites.\n",
    "\n",
    "### Success Metrics\n",
    "\n",
    "Our product's success will depend on mutation testing of the test functions developed based on our application-generated specifications. The evaluation metric is the success rate of detecting the perturbations introduced to the ML project code.\n",
    "\n",
    "Our partners and stakeholders expect a significant improvement in the testing suites of their ML systems post-application usage. As a result, the testing suites will demonstrate high accuracy in detecting faults, ensuring consistency and high quality of ML projects during updates.\n",
    "\n",
    "### Data Science Approach\n",
    "\n",
    "#### Data: GitHub Repositories\n",
    "\n",
    "In this project, GitHub repositories are our data. \n",
    "\n",
    "To develop our testing checklist, we will collect 11 repositories studied in {cite}`openja2023studying`. Additionally, we will collect 377 repositories identified in the study by {cite}`wattanakriengkrai2022github` for our product development.\n",
    "\n",
    "For each repository, we are interested in the metadata and the ML modeling- and test-related source code. The metadata will be retrieved using the GitHub API, while the source code will be downloaded and filtered using our custom scripts. To ensure the relevance of the repositories to our study, we will apply the following criteria for filtering:\n",
    " 1. Repositories that are related to ML systems.\n",
    " 2. Repositories that include test cases.\n",
    " 3. Repositories whose development is written in the Python programming language.\n",
    "\n",
    "#### Methodologies\n",
    "\n",
    "Our data science methodology incorporates human expert evaluation and prompt engineering to assess and enhance the test quality of ML systems.\n",
    "\n",
    "- Human Expert Evaluation\n",
    "\n",
    "    We will begin by formulating a comprehensive checklist for evaluating the data and ML pipeline based on the established testing strategies outlined in {cite}`openja2023studying` as the foundational framework. Based on the formulated checklist, our team will manually assess the test quality within each repository data. We will refine the checklist to ensure applicability and robustness when testing general ML systems.\n",
    "\n",
    "- Prompt Engineering\n",
    "\n",
    "    We will engineer the prompts for LLM to incorporate with the ML system code and the curated checklist and to serve various purposes across the three-stage process:\n",
    "  \n",
    "    1. Prompts to examine test cases within the ML system source codes and deliver test completeness scores.\n",
    "    2. Prompts to compare and contrast the existing tests and the checklist and deliver recommendations.\n",
    "    3. Prompts to generate system-specific test specifications based on user-selected testing recommendations {cite}`schafer2023empirical`\n",
    "\n",
    "#### Iterative Development Approach\n",
    "\n",
    "We begin by setting up a foundational framework based on the selected GitHub repositories and research on ML testing. The framework might not cover all ML systems or testing practices. Therefore, we adopt an iterative development approach by establishing an open and scalable framework to address these considerations. The application will be continuously refined based on contributors' insights.\n",
    "\n",
    "Users are encouraged to interpret the generated artifacts with a grain of salt and recognize the evolving nature of ML system testing practices."
   ]
  },
  {
   "cell_type": "markdown",
   "metadata": {},
   "source": [
    "## Delivery Timeline\n",
    "\n",
    "Our team follows the timeline below for our product delivery and prioritizes close communication with our partners to ensure that our developments align closely with their expectations.\n",
    "\n",
    "| Timeline | Milestones |\n",
    "|---|---|\n",
    "| Week 1 (Apr 29 - May 3) | Prepare and Present Initial Proposal. Scrape repository data. |\n",
    "| Week 2 - 3 (May 6 - 17) | Deliver Proposal. Deliver Draft of ML Pipeline Test Checklist. Develop Minimum Viable Product (Test Completeness Score, Missing Test Recommendation) |\n",
    "| Week 4 - 5 (May 20 - May 31) | Update Test Checklist. Develop Test Function Specification Generator. |\n",
    "| Week 6 (Jun 3 - Jun 7) | Update Test Checklist. Wrap Up Product. |\n",
    "| Week 7 (Jun 10 - Jun 14) | Finalize Test Checklist. Perform Product System Test. Present Final Product. Prepare Final Product Report. |\n",
    "| Week 8 (Jun 17 - Jun 21) | Deliver Final Product. Deliver Final Product Report. |\n"
   ]
  },
  {
   "cell_type": "markdown",
   "metadata": {},
   "source": [
    "## References"
   ]
  },
  {
   "cell_type": "markdown",
   "metadata": {},
   "source": [
    "```{bibliography}\n",
    "```"
   ]
  },
  {
   "cell_type": "code",
   "execution_count": null,
   "metadata": {},
   "outputs": [],
   "source": []
  }
 ],
 "metadata": {
  "kernelspec": {
   "display_name": "Python 3 (ipykernel)",
   "language": "python",
   "name": "python3"
  },
  "language_info": {
   "codemirror_mode": {
    "name": "ipython",
    "version": 3
   },
   "file_extension": ".py",
   "mimetype": "text/x-python",
   "name": "python",
   "nbconvert_exporter": "python",
   "pygments_lexer": "ipython3",
   "version": "3.12.3"
  },
  "widgets": {
   "application/vnd.jupyter.widget-state+json": {
    "state": {},
    "version_major": 2,
    "version_minor": 0
   }
  }
 },
 "nbformat": 4,
 "nbformat_minor": 4
}