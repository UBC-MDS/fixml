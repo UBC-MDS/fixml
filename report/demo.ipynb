{
 "cells": [
  {
   "cell_type": "code",
   "execution_count": 1,
   "id": "d2c1ead7-9d5b-4414-80e2-07092ba180ca",
   "metadata": {},
   "outputs": [],
   "source": [
    "from langchain_openai import ChatOpenAI\n",
    "\n",
    "from test_creation.modules.workflow.prompt_format import EvaluationPromptFormat\n",
    "from test_creation.modules.workflow.runners.evaluator import PerFileTestEvaluator\n",
    "from test_creation.modules.code_analyzer.repo import Repository\n",
    "from test_creation.modules.workflow.parse import ResponseParser\n",
    "from test_creation.modules.checklist.checklist import Checklist"
   ]
  },
  {
   "cell_type": "code",
   "execution_count": 2,
   "id": "6b32b2ac-e781-450c-b329-31f8e2ab008d",
   "metadata": {},
   "outputs": [
    {
     "name": "stderr",
     "output_type": "stream",
     "text": [
      "100%|███████████████████████████████████████████████████████████████████████████████████████████████████████████████████████████████████████████████| 7/7 [01:19<00:00, 11.30s/it]\n"
     ]
    }
   ],
   "source": [
    "#parsed_test_dirs = parse_list(test_dirs)\n",
    "llm = ChatOpenAI(model=\"gpt-3.5-turbo\", temperature=0)\n",
    "checklist = Checklist(\"../checklist/checklist.csv\")\n",
    "repo = Repository(\"../data/raw/openja/lightfm\")\n",
    "prompt_format = EvaluationPromptFormat()\n",
    "\n",
    "evaluator = PerFileTestEvaluator(llm, prompt_format=prompt_format,\n",
    "                                 repository=repo, checklist=checklist,\n",
    "                                 test_dirs=None)\n",
    "response = evaluator.run()\n",
    "\n",
    "# parser = ResponseParser(response)\n",
    "# parser.get_completeness_score(verbose=verbose)\n",
    "\n",
    "# parser.export_evaluation_report(report_output_path, exist_ok=overwrite)"
   ]
  },
  {
   "cell_type": "code",
   "execution_count": 3,
   "id": "dcd2c979-abdd-4a7b-abe2-673684c49b5d",
   "metadata": {},
   "outputs": [
    {
     "data": {
      "text/plain": [
       "TokenInfo(input_count=1156, output_count=777)"
      ]
     },
     "execution_count": 3,
     "metadata": {},
     "output_type": "execute_result"
    }
   ],
   "source": [
    "response.call_results[0].tokens_used"
   ]
  },
  {
   "cell_type": "code",
   "execution_count": null,
   "id": "4273d124-cf0b-43db-891b-8f7cb0470a62",
   "metadata": {},
   "outputs": [],
   "source": []
  },
  {
   "cell_type": "code",
   "execution_count": null,
   "id": "d30ba66d-7837-4b4d-9e50-f9ac7f17b023",
   "metadata": {},
   "outputs": [],
   "source": []
  }
 ],
 "metadata": {
  "kernelspec": {
   "display_name": "Python [conda env:test-creation]",
   "language": "python",
   "name": "conda-env-test-creation-py"
  },
  "language_info": {
   "codemirror_mode": {
    "name": "ipython",
    "version": 3
   },
   "file_extension": ".py",
   "mimetype": "text/x-python",
   "name": "python",
   "nbconvert_exporter": "python",
   "pygments_lexer": "ipython3",
   "version": "3.12.3"
  }
 },
 "nbformat": 4,
 "nbformat_minor": 5
}
